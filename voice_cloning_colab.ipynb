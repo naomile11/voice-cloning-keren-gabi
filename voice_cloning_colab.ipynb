{
 "cells": [
  {
   "cell_type": "markdown",
   "metadata": {},
   "source": [
    "# 🎙️ Voice Cloning בעברית לקרן וגבי\n",
    "מחברת זו מאפשרת שימוש ב־Coqui TTS לשכפול קולות בעברית."
   ]
  },
  {
   "cell_type": "code",
   "execution_count": null,
   "metadata": {},
   "outputs": [],
   "source": [
    "# ✅ התקנת Coqui TTS וספריות נלוות\n",
    "!pip install TTS==0.15.1 --quiet\n",
    "!pip install torchaudio --quiet\n",
    "!pip install IPython --quiet"
   ]
  },
  {
   "cell_type": "code",
   "execution_count": null,
   "metadata": {},
   "outputs": [],
   "source": [
    "# ✅ העלאת קובץ קול מקור\n",
    "from google.colab import files\n",
    "uploaded = files.upload()  # העלי כאן את keren.mp3 או gabi.mp3"
   ]
  },
  {
   "cell_type": "code",
   "execution_count": null,
   "metadata": {},
   "outputs": [],
   "source": [
    "# ✅ המרת הקול המוקלט למודל אימון מותאם אישית (voice cloning)\n",
    "# בגרסה בסיסית נשתמש בקול מוכן, אך ניתן לאמן על הקלטה אישית\n",
    "# לפרויקט מלא – נדרש fine-tuning עם dataset גדול יותר"
   ]
  },
  {
   "cell_type": "code",
   "execution_count": null,
   "metadata": {},
   "outputs": [],
   "source": [
    "# ✅ יצירת קול מדוגם מטקסט בעברית\n",
    "from TTS.api import TTS\n",
    "\n",
    "# שימוש בקול Hebrew pre-trained מ־Coqui\n",
    "tts = TTS(model_name=\"tts_models/he/tacotron2-DDC\", progress_bar=False)\n",
    "\n",
    "# הקלדת הטקסט לדיבור\n",
    "hebrew_text = \"היי קרן, יום הולדת שמח! אנחנו מקווים שתהני מהפודקאסט הזה.\"\n",
    "\n",
    "# שמירת האודיו\n",
    "tts.tts_to_file(text=hebrew_text, file_path=\"output.wav\")"
   ]
  },
  {
   "cell_type": "code",
   "execution_count": null,
   "metadata": {},
   "outputs": [],
   "source": [
    "# ✅ השמעת התוצאה\n",
    "from IPython.display import Audio\n",
    "Audio(\"output.wav\")"
   ]
  }
 ],
 "metadata": {
  "kernelspec": {
   "display_name": "Python 3",
   "language": "python",
   "name": "python3"
  },
  "language_info": {
   "name": "python",
   "version": "3.x"
  }
 },
 "nbformat": 4,
 "nbformat_minor": 2
}
